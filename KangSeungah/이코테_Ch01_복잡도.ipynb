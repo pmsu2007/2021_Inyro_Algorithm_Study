{
 "cells": [
  {
   "cell_type": "markdown",
   "source": [
    "# *Chapter 01*\r\n",
    "## 복잡도\r\n",
    "\r\n",
    "### - 복잡도(complexity)는 알고리즘의 성능을 나타내는 척도\r\n",
    "### - 시간복잡도(Time complexity)와 공간 복잡도(Space Complexity)로 나뉨\r\n",
    "### - 동일한 기능을 수행하는 알고리즘이 있다면 일반적으로 복잡도가 낮을수록 좋은 알고리즘이다.\r\n",
    "<br/>\r\n",
    "<br/>\r\n",
    "<br/>\r\n",
    "\r\n",
    "## \"시간 복잡도\"\r\n",
    "### - 특정한 크기의 입력에 대하여 알고리즘이 얼마나 *오래 걸리는지*를 의미\r\n",
    "<br/>\r\n",
    "<br/>\r\n",
    "\r\n",
    "## \"공간 복잡도\"\r\n",
    "### - 특정한 크기의 입력에 대하여 알고리즘이 얼마나 많은 *메모리*를 차지하는지를 의미\r\n",
    "<br/>\r\n",
    "\r\n",
    "## 복잡도 측정의 목적\r\n",
    "### 효율적인 알고리즘을 작성하기 위한 조건 확인\r\n",
    "### => 시간 복잡도 :  알고리즘을 위해 필요한 연산의 횟수 <br/>\r\n",
    "### => 공간 복잡도 : 알고리즘을 위해 필요한 메모리의 양\r\n",
    "\r\n",
    "\r\n",
    "\r\n",
    "\r\n",
    "\r\n"
   ],
   "metadata": {}
  },
  {
   "cell_type": "markdown",
   "source": [
    "-------------------------------------------\r\n"
   ],
   "metadata": {}
  },
  {
   "cell_type": "markdown",
   "source": [
    "## 시간 복잡도\r\n",
    "### 보통 알고리즘 문제에서 \"복잡도\"라고 하면 보통은 시간 복잡도를 의미\r\n",
    "### 코테 문제에 적힌 제한 시간이 바로 이 시간 제한이다. (실행해서 결과 출력까지 걸리는 시간을 의미)\r\n",
    "### 만약 시간을 초과하면 \"시간 초과\"가 뜸\r\n"
   ],
   "metadata": {}
  },
  {
   "cell_type": "markdown",
   "source": [
    "## Big-O 표기법\r\n",
    "### 함수의 상한만을 고려한 표기법\r\n",
    "### 예제\r\n",
    "![이미지이름](https://blog.kakaocdn.net/dn/ebPITl/btq21Ner8u2/Ii1m8sl3SSsN57BB7HQiKK/img.png)"
   ],
   "metadata": {}
  },
  {
   "cell_type": "code",
   "execution_count": 3,
   "source": [
    "array = [3, 5, 1, 2, 4] # 5개의 데이터(N=5)\r\n",
    "summary = 0  # 합계를 저장할 변수\r\n",
    "\r\n",
    "# 모든 데이터를 하나씩 확인하며 합계를 계산\r\n",
    "for x in array :\r\n",
    "    summary += x\r\n",
    "\r\n",
    "# 결과를 출력\r\n",
    "print(summary)"
   ],
   "outputs": [
    {
     "output_type": "stream",
     "name": "stdout",
     "text": [
      "15\n"
     ]
    }
   ],
   "metadata": {}
  },
  {
   "cell_type": "markdown",
   "source": [
    "### 위의 소스코드의 시간복잡도는 O(N)이다. "
   ],
   "metadata": {}
  },
  {
   "cell_type": "code",
   "execution_count": 4,
   "source": [
    "a = 5\r\n",
    "b = 7\r\n",
    "print(a+b)"
   ],
   "outputs": [
    {
     "output_type": "stream",
     "name": "stdout",
     "text": [
      "12\n"
     ]
    }
   ],
   "metadata": {}
  },
  {
   "cell_type": "markdown",
   "source": [
    "### 위의 소크코드의 시간복잡도는 O(1)이다.\r\n",
    "### 연산횟수는 1이고 상수 연산임"
   ],
   "metadata": {}
  },
  {
   "cell_type": "code",
   "execution_count": null,
   "source": [
    "array = [3,4,1,2,5] # 5개의 데이터(N=5)\r\n",
    "\r\n",
    "for i in array:\r\n",
    "    for j in array:\r\n",
    "        temp = i * j\r\n",
    "        print(temp)"
   ],
   "outputs": [],
   "metadata": {}
  },
  {
   "cell_type": "markdown",
   "source": [
    "### 위의 소스코드의 시간복잡도는 O(N^2)이다.\r\n",
    "### 2중 반복문을 이용하여 각 원소에 대하여 다른 모든 원소에 대한 곱셈 결과를 매번 출력하고 있기 때문\r\n",
    "### 요컨대, 간단한 2중 반복문 => N*N 만큼의 연산이 필요. 물론 모든 2중 반복문이 O(N^2)는 아님.\r\n",
    "### 따라서 소스코드의 정확한 분석이 필요함"
   ],
   "metadata": {}
  },
  {
   "cell_type": "markdown",
   "source": [
    "## 알고리즘에서 시간 복잡도를 알아볼때는 Worst Case 최악의 경우를 뜻한다\r\n",
    "### 코테에서도 따라서 최악의 경우에 대한 연산 횟수가 가장 중요하다.\r\n",
    "![이미지이름](https://joshuajangblog.files.wordpress.com/2016/09/1.jpg?w=638)\r\n",
    "</br>\r\n",
    "\r\n",
    "### O(1) 상수시간\r\n",
    "### O(logN) 로그시간\r\n",
    "### O(N) 선형 시간\r\n",
    "### O(NlogN) 로그 선형 시간\r\n",
    "### O(N^2) 이차 시간\r\n",
    "### O(N^3) 삼차 시간\r\n",
    "### O(2^n) 지수 시간"
   ],
   "metadata": {}
  },
  {
   "cell_type": "markdown",
   "source": [
    "## 코테에서는 차수가 작은 항들을 완전히 무시하는 건 사실 곤란함.\r\n",
    "### 빅오표기법에서는 3N^3 + 5N^2 + 1000000인 알고리즘의 시간복자도를 O(N^3)으로 나타내지만 실제로 N이 작을 때는 상수의 영향이 크다.\r\n",
    "### 코테에서 이렇게 상수까지 고려해야하는 경우는 일반적으로 적지만 빅오 표기법이 하상 절대적인 것은 아니라는 점을 기억해야 함.\r\n",
    "</br>\r\n",
    "\r\n",
    "## 일반적으로 코테 환경에서는 O(N^3)를 넘어가면 문제 풀이에서 사용하기 어렵다.\r\n",
    "### N = 1000일때\r\n",
    "### O(N) 1000\r\n",
    "### O(NlogN) 10000\r\n",
    "### O(N^2) 1000000\r\n",
    "### O(N^3) 1000000000"
   ],
   "metadata": {}
  },
  {
   "cell_type": "markdown",
   "source": [
    "### 데이터의 개수 N이 1000만 개를 넘어가며 시간 제한이 1초라면, 대략 최악의 경우 O(N)의 시간 복잡도로 동작하는 알고리즘을 작성해야 할 것이라고 예상할 수 있다.\r\n",
    "### 혹은 더 큰 탐색 범위의 경우 *'이진 탐색'*과 같이 O(logN)의 복잡도를 갖는 알고리즘을 작성해야 할 것.\r\n",
    "</br>\r\n",
    "\r\n",
    "## 일반적인 제한 시간 예시\r\n",
    "### - N의 범위가 500인 경우 : 시간 복잡도가 O(N^3)인 알고리즘을 설계\r\n",
    "### - N의 범위가 2000인 경우 : 시간 복잡도가 O(N^2)인 알고리즘을 설계\r\n",
    "### - N의 범위가 100000인 경우 : 시간 복잡도가 O(NlogN)인 알고리즘을 설계\r\n",
    "### - N의 범위가 10000000인 경우 : 시간 복잡도가 O(N)인 알고리즘을 설계\r\n"
   ],
   "metadata": {}
  },
  {
   "cell_type": "markdown",
   "source": [
    "## 공간 복잡도\r\n",
    "### 공간 복잡도도 마찬가지로 빅오 표기법을 이용한다.\r\n",
    "### 시간 복잡도에서 절대적인 제한 시간이 있던 것처럼, 메모리 사용량에도 절대적인 제한이 있다.\r\n",
    "### 일반적 메모리 사용량의 기준은 MB 메가바이트\r\n",
    "\r\n",
    "</br>\r\n",
    "</br>\r\n",
    "\r\n",
    "### - int a[1000] : 3KB\r\n",
    "### - int a[1000000] : 4MB\r\n",
    "### - int a[2000][2000] : 16MB\r\n",
    "\r\n",
    "</br>\r\n",
    "</br>\r\n",
    "\r\n",
    "### 일반적으로 코테에서는 데이터의 개수가 1000만 단위가 넘어가지 않도록 설계 해야 한다.\r\n"
   ],
   "metadata": {}
  },
  {
   "cell_type": "markdown",
   "source": [
    "## 시간과 메모리 측정\r\n",
    "\r\n",
    "### 수행 시간 측정 코드 (하단에)"
   ],
   "metadata": {}
  },
  {
   "cell_type": "code",
   "execution_count": 5,
   "source": [
    "import time\r\n",
    "start_time = time.time() # 측정 시작\r\n",
    "\r\n",
    "# (프로그램 소스코드)\r\n",
    "\r\n",
    "end_time = time.time() # 측정 종료\r\n",
    "print(\"time :\", end_time - start_time) # 수행 시간 출력"
   ],
   "outputs": [
    {
     "output_type": "stream",
     "name": "stdout",
     "text": [
      "time : 0.0\n"
     ]
    }
   ],
   "metadata": {}
  },
  {
   "cell_type": "markdown",
   "source": [
    "-----------------------------------------"
   ],
   "metadata": {}
  },
  {
   "cell_type": "markdown",
   "source": [
    "### 선택 정렬과 기본 정렬 라이브러리의 수행 시간 비교"
   ],
   "metadata": {}
  },
  {
   "cell_type": "code",
   "execution_count": 7,
   "source": [
    "from random import randint\r\n",
    "import time\r\n",
    "\r\n",
    "# 배열에 10,000개의 정수를 삽입\r\n",
    "array = []\r\n",
    "for _ in range(10000):\r\n",
    "    array.append(randint(1,100)) # 1부터 100 사이의 랜덤한 정수\r\n",
    "\r\n",
    "# 선택 정렬 프로그램 성능 측정\r\n",
    "start_time = time.time()\r\n",
    "\r\n",
    "# 선택 정렬 프로그램 소스코드\r\n",
    "for i in range(len(array)):\r\n",
    "    min_index = i # 가장 작은 원소의 인덱스\r\n",
    "    for j in range(i + 1, len(array)):\r\n",
    "        if array[min_index] > array[j]:\r\n",
    "            min_index = j\r\n",
    "    array[i], array[min_index] = array[min_index], array[i] # 스톼프\r\n",
    "\r\n",
    "end_time = time.time() # 측정 종료\r\n",
    "print(\"선택 정렬 성능 측정: \", end_time - start_time) # 수행 시간 출력\r\n",
    "\r\n",
    "# 배열을 다시 무작위 데이터로 초기화\r\n",
    "array = []\r\n",
    "for _ in range(10000):\r\n",
    "    array.append(randint(1,100)) # 1부터 100 사이의 랜덤한 정수\r\n",
    "\r\n",
    "# 기본 정렬 라이브러리 성능 측정\r\n",
    "start_time = time.time()\r\n",
    "\r\n",
    "# 기본 정렬 라이브러리 사용\r\n",
    "array.sort()\r\n",
    "\r\n",
    "end_time = time.time() # 측정 종료\r\n",
    "print(\"기본 정렬 라이브러리 성능 측정: \", end_time - start_time) # 수행 시간 출력"
   ],
   "outputs": [
    {
     "output_type": "stream",
     "name": "stdout",
     "text": [
      "선택 정렬 성능 측정:  3.2244231700897217\n",
      "기본 정렬 라이브러리 성능 측정:  0.0010781288146972656\n"
     ]
    }
   ],
   "metadata": {}
  },
  {
   "cell_type": "markdown",
   "source": [
    "### 위와 같이 자신이 설계한 알고리즘의 성능을 실제로 확인할 수 있다. \r\n",
    "</br>\r\n",
    "\r\n",
    "## 정리\r\n",
    "### 복잡도란 특정한 알고리즘이 계산적으로 얼마나 복잡한지를 나타내는 것이다. \r\n",
    "</br>\r\n",
    "\r\n",
    "### 동일한 기능을 수행하는 알고리즘이 A, B가 있을 때 \r\n",
    "### *if (시간 복잡도 : A > B) => A*\r\n",
    "### 알고리즘이 실행 시간 측면에서 성능이 더 낮다는 의미\r\n",
    "</br>\r\n",
    "\r\n",
    "### 코테에서는 가독성을 해치지 않는 선에서 최대한 복잡도가 낮게 프로그램을 작성해야 한다.\r\n",
    "### 일반적으로 알고리즘 문제 풀이에서 복잡도는 계산 복잡도를 의미하는 경우가 많으며, 이는 '소스코드가 복잡하게 생겼다'와는 다른 의미이다.\r\n",
    "### 별 다른 언급이 없다면 '복잡도'란 시간 복잡도"
   ],
   "metadata": {}
  }
 ],
 "metadata": {
  "orig_nbformat": 4,
  "language_info": {
   "name": "python",
   "version": "3.9.4",
   "mimetype": "text/x-python",
   "codemirror_mode": {
    "name": "ipython",
    "version": 3
   },
   "pygments_lexer": "ipython3",
   "nbconvert_exporter": "python",
   "file_extension": ".py"
  },
  "kernelspec": {
   "name": "python3",
   "display_name": "Python 3.9.4 64-bit"
  },
  "interpreter": {
   "hash": "502e5c09611335f6b19ebdcf0dba89990a727b5014e0c7cbed28814450a5d363"
  }
 },
 "nbformat": 4,
 "nbformat_minor": 2
}