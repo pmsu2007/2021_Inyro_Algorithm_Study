{
 "cells": [
  {
   "cell_type": "markdown",
   "source": [
    "# *Chapter 05*\r\n",
    "## 탐색 알고리즘 DFS/BFS\r\n",
    "<br/>\r\n",
    "\r\n",
    "## DFS\r\n",
    "- DFS : Depth-First Search (깊이 우선 탐색)\r\n",
    "- 그래프Graph에서 깊은 부분을 우선적으로 탐색하는 알고리즘\r\n",
    "\r\n",
    "<br/>\r\n",
    "\r\n",
    "### 그래프Graph?\r\n",
    "- 그래프는 노드Node와 간선Edge으로 표현되며 이때 노드를 정점Vertex이라고도 한다.\r\n",
    "- 노드를 도시 간선을 도시를 연결하는 도로로 이해하면 됨\r\n",
    "\r\n",
    "<br/>\r\n",
    "\r\n",
    "- ![간선/노드](https://media.vlpt.us/images/codedot/post/49ca5f80-f01d-4c63-b4c3-db62dff722ba/graph01%20(1).gif)\r\n",
    "\r\n",
    "<br/>\r\n",
    "\r\n",
    "- *그래프 탐색*이란 하나의 노드를 시작으로 다수의 노드를 방문하는 것을 말함\r\n",
    "- 두 노드가 간선으로 연결되어 있다면 '두 노드는 인접하다 Adjacent'라고 표현한다.\r\n",
    "\r\n",
    "<br/>"
   ],
   "metadata": {}
  },
  {
   "cell_type": "markdown",
   "source": [
    "\r\n",
    "\r\n",
    "### 프로그래밍에서 그래프는 크게 2가지 방식으로 표현할 수 있는데 코테에서는 이 두 방식 모두 필요하니 두 개념에 대해 바르게 알고 있도록 하자.\r\n",
    "- 인접 행렬(Adjacency Matrix) : 2차원 배열로 그래프의 연결 관계를 표현하는 방식\r\n",
    "- 인접 리스트(Adjacency List) : 리스트로 그래프의 연결 관계를 표현하는 방식\r\n",
    "\r\n",
    "<br/>\r\n",
    "\r\n",
    "- ![인접행렬vs인접리스트](https://blog.kakaocdn.net/dn/YyP6R/btqwukVd3Jr/dNYNRin69Ft2gnxiYM3vlK/img.png)\r\n",
    "\r\n",
    "<br/>\r\n",
    "\r\n",
    "- 인접 행렬 Adjacency Matrix 방식은 *2차원 배열에 각 노드가 연결된 형태를 기록하는 방식*\r\n",
    "- 파이썬에서는 인접 행렬을 2차원 리스트로 구현할 수 있다.\r\n",
    "- 연결되어 있지 않은 노드끼리는 무한infinity의 비용이라고 작성.\r\n",
    "- 실제 코드에서는 논리적으로 정답이 될 수 없는 큰 값 중에서 999999999, 987654321 등의 값으로 초기화하는 경우가 많음.\r\n",
    "<br/>\r\n",
    "<br/>\r\n",
    "\r\n",
    "### 인접 행렬 방식 예제"
   ],
   "metadata": {}
  },
  {
   "cell_type": "code",
   "execution_count": 1,
   "source": [
    "INF = 999999999 # 무한의 비용 선언\r\n",
    "\r\n",
    "# 2차원 리스트를 이용해 인접 행렬 표현\r\n",
    "graph = [\r\n",
    "    [0, 7, 5],\r\n",
    "    [7, 0, INF],\r\n",
    "    [5, INF, 0]\r\n",
    "]\r\n",
    "\r\n",
    "print(graph)"
   ],
   "outputs": [
    {
     "output_type": "stream",
     "name": "stdout",
     "text": [
      "[[0, 7, 5], [7, 0, 999999999], [5, 999999999, 0]]\n"
     ]
    }
   ],
   "metadata": {}
  },
  {
   "cell_type": "markdown",
   "source": [
    "- 인접 리스트는 '연결 리스트'라는 자료구조를 이용해 구현함\r\n",
    "- 파이썬으로 인접 리스트를 이용해 그래프를 표현하고자 할 때엔 단순히 2차원 리스트를 이용하면 된다\r\n",
    "\r\n",
    "<br/>"
   ],
   "metadata": {}
  },
  {
   "cell_type": "markdown",
   "source": [
    "### 인접 리스트 방식 예제"
   ],
   "metadata": {}
  },
  {
   "cell_type": "code",
   "execution_count": 2,
   "source": [
    "# 행(Row)이 3개인 2차원 리스트로 인접 리스트 표현\r\n",
    "graph = [[] for _ in range(3)]\r\n",
    "\r\n",
    "# 노드 0에 연결된 노드 정보 저장(노드, 거리)\r\n",
    "graph[0].append((1,7))\r\n",
    "graph[0].append((2,5))\r\n",
    "\r\n",
    "# 노드 1에 연결된 노드 정보 저장(노드, 거리)\r\n",
    "graph[1].append((0, 7))\r\n",
    "\r\n",
    "# 노드 2에 연결된 노드 정보 저장(노드, 거리)\r\n",
    "graph[2].append((0, 5))\r\n",
    "\r\n",
    "print(graph)"
   ],
   "outputs": [
    {
     "output_type": "stream",
     "name": "stdout",
     "text": [
      "[[(1, 7), (2, 5)], [(0, 7)], [(0, 5)]]\n"
     ]
    }
   ],
   "metadata": {}
  },
  {
   "cell_type": "markdown",
   "source": [
    "### 인절 행렬 VS 인접 리스트 ??\r\n",
    "<br/>\r\n",
    "\r\n",
    "#### 메모리 측면에서의 차이:\r\n",
    "- 인접 행렬 Adjacency Matrix : 모든 관게를 저장하기 때문에 노드 개수가 많을수록 메모리가 불필요하게 낭비된다.\r\n",
    "- 인접 리스트 Adjacency List : 연결된 정보만을 저장하기 때문에 메모리를 효율적으로 사용한다.\r\n",
    "\r\n",
    "#### 속도 측면에서의 차이:\r\n",
    "- 인접 리스트 방식은 위와 같은 속성 때문에 인접 행렬 방식에 비해 특정한 두 노드가 연겨로디어 있는지에 대한 정보를 얻는 속도가 느림\r\n",
    "- 인접 리스트 방식에서는 연결된 데이터를 하나씩 확인해야 하기 때문\r\n",
    "\r\n",
    "<br/>\r\n",
    "\r\n",
    "### Example> 노드 1과 노드 7의 연결 여부 확인\r\n",
    "- 인접 행렬Matrix 방식에서는 graph[1][7]만 확인하면 된다.\r\n",
    "- 인접 리스트List 방식에서는 노드1에 대한 인접 리스트를 앞에서부터 차례대로 확인해야 한다.\r\n",
    "- 특정한 노드와 연결된 모든 인접 노드를 순회해야 하는 경우, 인접 리스트 방식이 인접 행렬 방식에 비해 메모리 공간의 낭비가 적음\r\n"
   ],
   "metadata": {}
  },
  {
   "cell_type": "markdown",
   "source": [
    "## DFS의 구체적인 동작\r\n",
    "#### *특정한 경로로 탐색하다가 특정한 상황에서 최대한 깊숙이 들어가서 노드를 방문한 후, 다시 돌아가 다른 경로로 탐색하는 알고리즘*\r\n",
    "- DFS는 스택 자료구조를 이용한다.\r\n",
    "<br/>\r\n",
    "\r\n",
    "### 동작 과정\r\n",
    "1. 탐색 시작 노드를 스택에 삽입하고 방문 처리를 한다.\r\n",
    "2. 스택의 최상단 노드에 방문하지 않은 인접 노드가 있으면 그 인접 노드를 스택에 넣고 방문 처리를 한다. \r\n",
    "    방문하지 않은 인접 노드가 없으면 스택에서 최상단 노드를 꺼낸다.\r\n",
    "3. 2번의 과정을 더 이상 수행할 수 없을 때까지 반복한다. \r\n",
    "( 방문 처리 : 스택에 한 번 삽입되어 처리된 노드가 다시 삽입되지 않게 체크하는 것)\r\n",
    "\r\n"
   ],
   "metadata": {}
  },
  {
   "cell_type": "markdown",
   "source": [
    "<img src = \"https://media.vlpt.us/images/polynomeer/post/6650af50-f2f2-44bb-8a2d-55a2ea616ffb/DFS.gif\" width=60%>"
   ],
   "metadata": {}
  },
  {
   "cell_type": "markdown",
   "source": [
    "### DFS 예제"
   ],
   "metadata": {}
  },
  {
   "cell_type": "code",
   "execution_count": 3,
   "source": [
    "# DFS 메서드 정의\r\n",
    "def dfs(graph, v, visited):\r\n",
    "    # 현재 노드를 방문 처리\r\n",
    "    visited[v] = True\r\n",
    "    print(v, end=' ')\r\n",
    "    # 현재 노드와 연결된 다른 노드를 재귀적으로 방문\r\n",
    "    for i in graph[v]:\r\n",
    "        if not visited[i]:\r\n",
    "            dfs(graph, i, visited)\r\n",
    "\r\n",
    "# 각 노드가 연결된 정보를 리스트 자료형으로 표현(2차원 리스트)\r\n",
    "graph = [\r\n",
    "    [],\r\n",
    "    [2,3,8],\r\n",
    "    [1,7],\r\n",
    "    [1,4,5],\r\n",
    "    [3,5],\r\n",
    "    [3,4],\r\n",
    "    [7],\r\n",
    "    [2,6,8],\r\n",
    "    [1,7]\r\n",
    "]\r\n",
    "\r\n",
    "# 각 노드가 방문된 정보를 리스트 자료형으로 표현(1차원 리스트)\r\n",
    "visited = [False] * 9\r\n",
    "\r\n",
    "# 정의된 DFS 함수 호출\r\n",
    "dfs(graph, 1, visited)"
   ],
   "outputs": [
    {
     "output_type": "stream",
     "name": "stdout",
     "text": [
      "1 2 7 6 8 3 4 5 "
     ]
    }
   ],
   "metadata": {}
  },
  {
   "cell_type": "markdown",
   "source": [
    "## BFS\r\n",
    "- BFS : Breadth First Search (너비 우선 탐색)\r\n",
    "- 가까운 노드부터 탐색하는 알고리즘\r\n",
    "- DFS는 최대한 멀리 있는 노드를 우선으로 탐색하는 방식으로 동작하는 반면, BFS는 반대.\r\n",
    "<br/>\r\n",
    "\r\n",
    "## BFS의 구현?\r\n",
    "- BFS 구현에서는 선입선출(FIFO) 방식인 큐Queue 자료구조를 이용하는 것이 정석이다.\r\n",
    "- 인접한 노드를 반복적으로 큐에 넣도록 알고리즘을 작성하면 자연스럽게 먼저 들어온 것이 먼저 나가게 되어, 가까운 노드부터 탐색을 진행하게 된다.\r\n"
   ],
   "metadata": {}
  },
  {
   "cell_type": "markdown",
   "source": [
    "## BFS의 구체적인 동작\r\n",
    "1. 탐색 시작 노드를 큐에 삽입하고 방문 처리를 한다.\r\n",
    "2. 큐에서 노드를 꺼내 해당 노드의 인접 노드 중에서 방문하지 않은 노드를 모두 큐에 삽입하고 방문 처리를 한다.\r\n",
    "3. 2번의 과정을 더 이상 수행할 수 없을 때까지 반복한다.\r\n",
    "<br/>\r\n",
    "\r\n",
    "<img src = \"https://media.vlpt.us/images/polynomeer/post/b8af5260-1a7d-4ebf-8d45-900c0c818ffc/2020-03-30_18-35-52.gif\" width = 60%>"
   ],
   "metadata": {}
  },
  {
   "cell_type": "markdown",
   "source": [
    "### BFS 예제"
   ],
   "metadata": {}
  },
  {
   "cell_type": "code",
   "execution_count": 4,
   "source": [
    "from collections import deque\r\n",
    "\r\n",
    "# BFS 메서드 정의\r\n",
    "def bfs(graph, start, visited):\r\n",
    "    # 큐(Queue) 구현을 위해 deque 라이브러리 사용\r\n",
    "    queue = deque([start])\r\n",
    "    # 현재 노드를 방문 처리\r\n",
    "    visited[start] = True\r\n",
    "    # 큐가 빌 때까지 반복\r\n",
    "    while queue:\r\n",
    "        # 큐에서 하나의 원소를 뽑아 출력\r\n",
    "        v = queue.popleft()\r\n",
    "        print(v, end = ' ')\r\n",
    "        # 해당 원소와 연결된, 아직 방문하지 않은 원소들을 큐에 삽입\r\n",
    "        for i in graph[v]:\r\n",
    "            if not visited[i]:\r\n",
    "                queue.append(i)\r\n",
    "                visited[i] = True\r\n",
    "\r\n",
    "# 각 노드가 연결된 정보를 리스트 자료형으로 표현(2차원 리스트)\r\n",
    "graph = [\r\n",
    "[],\r\n",
    "    [2,3,8],\r\n",
    "    [1,7],\r\n",
    "    [1,4,5],\r\n",
    "    [3,5],\r\n",
    "    [3,4],\r\n",
    "    [7],\r\n",
    "    [2,6,8],\r\n",
    "    [1,7]\r\n",
    "]\r\n",
    "\r\n",
    "# 각 노드가 방문된 정보를 리스트 자료형으로 표현(1차원 리스트)\r\n",
    "visited = [False] * 9\r\n",
    "\r\n",
    "# 정의된 BFS 함수 호출\r\n",
    "bfs(graph, 1, visited)"
   ],
   "outputs": [
    {
     "output_type": "stream",
     "name": "stdout",
     "text": [
      "1 2 3 8 7 4 5 6 "
     ]
    }
   ],
   "metadata": {}
  },
  {
   "cell_type": "markdown",
   "source": [
    "### DFS VS BFS 노드 탐색 순서\r\n",
    "- DFS : 자식 먼저 O(N)\r\n",
    "- BFS : 형제 먼저 O(N)"
   ],
   "metadata": {}
  },
  {
   "cell_type": "markdown",
   "source": [
    "![DFSvsBFS 노드 방문](https://blog.kakaocdn.net/dn/dpvYPB/btqEiLJMF0L/zEzcxeZEHQZck5cT0IXOmk/img.gif)\r\n",
    "<br/>\r\n",
    "\r\n",
    "- 코테에서는 보통 DFS 보다는 BFS 구현이 조금 더 빠르게 동작한다는 정도만 기억하자.\r\n",
    "<br/><br/><br/>\r\n",
    "\r\n",
    "\r\n",
    "||DFS|BFS|\r\n",
    "|:---:|:---:|:---:|\r\n",
    "|동작 원리| 스택 | 큐|\r\n",
    "|구현 방법 | 재귀 함수 이용 | 큐 자료구조 이용|\r\n",
    "\r\n",
    "<br/>\r\n",
    "<br/>\r\n",
    "\r\n",
    "#### *1차원 배열이나 2차원 배열 또한 그래프 형태로 생각*하면 수월하게 문제를 풀 수 있다. 특히 DFS와 BFS 문제 유형이 그러하다.\r\n",
    "\r\n"
   ],
   "metadata": {}
  }
 ],
 "metadata": {
  "orig_nbformat": 4,
  "language_info": {
   "name": "python",
   "version": "3.7.8",
   "mimetype": "text/x-python",
   "codemirror_mode": {
    "name": "ipython",
    "version": 3
   },
   "pygments_lexer": "ipython3",
   "nbconvert_exporter": "python",
   "file_extension": ".py"
  },
  "kernelspec": {
   "name": "python3",
   "display_name": "Python 3.7.8 64-bit"
  },
  "interpreter": {
   "hash": "57baa5815c940fdaff4d14510622de9616cae602444507ba5d0b6727c008cbd6"
  }
 },
 "nbformat": 4,
 "nbformat_minor": 2
}
